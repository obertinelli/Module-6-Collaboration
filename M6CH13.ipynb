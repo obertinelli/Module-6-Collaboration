{
 "cells": [
  {
   "cell_type": "code",
   "execution_count": 13,
   "id": "33013fcc-71be-4f47-8489-2424a098abb4",
   "metadata": {},
   "outputs": [
    {
     "name": "stdout",
     "output_type": "stream",
     "text": [
      "\"September 28 2024\"\n"
     ]
    }
   ],
   "source": [
    "# 13.1-3\n",
    "with open('today.txt', 'r') as f:\n",
    "    today_string = f.read()\n",
    "print(today_string)"
   ]
  },
  {
   "cell_type": "code",
   "execution_count": null,
   "id": "face4fdd-5c37-401f-be1c-aba863e1a6b5",
   "metadata": {},
   "outputs": [],
   "source": []
  }
 ],
 "metadata": {
  "kernelspec": {
   "display_name": "Python 3 (ipykernel)",
   "language": "python",
   "name": "python3"
  },
  "language_info": {
   "codemirror_mode": {
    "name": "ipython",
    "version": 3
   },
   "file_extension": ".py",
   "mimetype": "text/x-python",
   "name": "python",
   "nbconvert_exporter": "python",
   "pygments_lexer": "ipython3",
   "version": "3.12.4"
  }
 },
 "nbformat": 4,
 "nbformat_minor": 5
}
