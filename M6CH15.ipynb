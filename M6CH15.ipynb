{
 "cells": [
  {
   "cell_type": "code",
   "execution_count": 16,
   "id": "ca80eaaf-acb1-498b-a292-192a359dcd95",
   "metadata": {},
   "outputs": [
    {
     "name": "stdout",
     "output_type": "stream",
     "text": [
      "It took 0.12302780151367188 seconds\n"
     ]
    }
   ],
   "source": [
    "# 15.1 Use multiprocessing to create three separate processes. Make each one wait a random number of seconds between zero and one, \n",
    "# print the current time, and then exit.\n",
    "\n",
    "import multiprocessing\n",
    "import time\n",
    "import datetime\n",
    "import random \n",
    "\n",
    "\n",
    "def process1():\n",
    "    t1 = random.randint(1, 5) \n",
    "    print(f\"Waiting for {t1} seconds\")\n",
    "    time.sleep(t1)\n",
    "    print(f\"Process finished at: {datetime.datetime.now()}\")\n",
    "\n",
    "\n",
    "start = time.time()\n",
    "\n",
    "\n",
    "if __name__ == \"__main__\":\n",
    "    p1 = multiprocessing.Process(target=process1)\n",
    "    p2 = multiprocessing.Process(target=process1)\n",
    "    p3 = multiprocessing.Process(target=process1)\n",
    "\n",
    "\n",
    "    p1.start()\n",
    "    p2.start()\n",
    "    p3.start()\n",
    "\n",
    "\n",
    "    p1.join()\n",
    "    p2.join()\n",
    "    p3.join()\n",
    "\n",
    "    end = time.time()\n",
    "\n",
    "    print(\"It took \" + str(end - start) + \" seconds\")\n"
   ]
  },
  {
   "cell_type": "code",
   "execution_count": null,
   "id": "e7108449-2bab-4a3e-ac9b-346fd4ae6bb7",
   "metadata": {},
   "outputs": [],
   "source": []
  }
 ],
 "metadata": {
  "kernelspec": {
   "display_name": "Python 3 (ipykernel)",
   "language": "python",
   "name": "python3"
  },
  "language_info": {
   "codemirror_mode": {
    "name": "ipython",
    "version": 3
   },
   "file_extension": ".py",
   "mimetype": "text/x-python",
   "name": "python",
   "nbconvert_exporter": "python",
   "pygments_lexer": "ipython3",
   "version": "3.12.4"
  }
 },
 "nbformat": 4,
 "nbformat_minor": 5
}
